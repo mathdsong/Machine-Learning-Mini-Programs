{
 "cells": [
  {
   "cell_type": "markdown",
   "id": "31e48169",
   "metadata": {
    "papermill": {
     "duration": 0.003513,
     "end_time": "2024-03-08T03:13:03.914127",
     "exception": false,
     "start_time": "2024-03-08T03:13:03.910614",
     "status": "completed"
    },
    "tags": []
   },
   "source": [
    "**This notebook is an exercise in the [Introduction to Machine Learning](https://www.kaggle.com/learn/intro-to-machine-learning) course.  You can reference the tutorial at [this link](https://www.kaggle.com/dansbecker/underfitting-and-overfitting).**\n",
    "\n",
    "---\n"
   ]
  },
  {
   "cell_type": "markdown",
   "id": "7de7407c",
   "metadata": {
    "papermill": {
     "duration": 0.002681,
     "end_time": "2024-03-08T03:13:03.919911",
     "exception": false,
     "start_time": "2024-03-08T03:13:03.917230",
     "status": "completed"
    },
    "tags": []
   },
   "source": [
    "## Recap\n",
    "You've built your first model, and now it's time to optimize the size of the tree to make better predictions. Run this cell to set up your coding environment where the previous step left off."
   ]
  },
  {
   "cell_type": "code",
   "execution_count": 1,
   "id": "d9389e9a",
   "metadata": {
    "execution": {
     "iopub.execute_input": "2024-03-08T03:13:03.927569Z",
     "iopub.status.busy": "2024-03-08T03:13:03.927244Z",
     "iopub.status.idle": "2024-03-08T03:13:06.437631Z",
     "shell.execute_reply": "2024-03-08T03:13:06.436445Z"
    },
    "papermill": {
     "duration": 2.51802,
     "end_time": "2024-03-08T03:13:06.440766",
     "exception": false,
     "start_time": "2024-03-08T03:13:03.922746",
     "status": "completed"
    },
    "tags": []
   },
   "outputs": [
    {
     "name": "stdout",
     "output_type": "stream",
     "text": [
      "Validation MAE: 29,653\n",
      "\n",
      "Setup complete\n"
     ]
    }
   ],
   "source": [
    "# Code you have previously used to load data\n",
    "import pandas as pd\n",
    "from sklearn.metrics import mean_absolute_error\n",
    "from sklearn.model_selection import train_test_split\n",
    "from sklearn.tree import DecisionTreeRegressor\n",
    "\n",
    "\n",
    "# Path of the file to read\n",
    "iowa_file_path = '../input/home-data-for-ml-course/train.csv'\n",
    "\n",
    "home_data = pd.read_csv(iowa_file_path)\n",
    "# Create target object and call it y\n",
    "y = home_data.SalePrice\n",
    "# Create X\n",
    "features = ['LotArea', 'YearBuilt', '1stFlrSF', '2ndFlrSF', 'FullBath', 'BedroomAbvGr', 'TotRmsAbvGrd']\n",
    "X = home_data[features]\n",
    "\n",
    "# Split into validation and training data\n",
    "train_X, val_X, train_y, val_y = train_test_split(X, y, random_state=1)\n",
    "\n",
    "# Specify Model\n",
    "iowa_model = DecisionTreeRegressor(random_state=1)\n",
    "# Fit Model\n",
    "iowa_model.fit(train_X, train_y)\n",
    "\n",
    "# Make validation predictions and calculate mean absolute error\n",
    "val_predictions = iowa_model.predict(val_X)\n",
    "val_mae = mean_absolute_error(val_predictions, val_y)\n",
    "print(\"Validation MAE: {:,.0f}\".format(val_mae))\n",
    "\n",
    "# Set up code checking\n",
    "from learntools.core import binder\n",
    "binder.bind(globals())\n",
    "from learntools.machine_learning.ex5 import *\n",
    "print(\"\\nSetup complete\")"
   ]
  },
  {
   "cell_type": "markdown",
   "id": "8a649230",
   "metadata": {
    "papermill": {
     "duration": 0.002828,
     "end_time": "2024-03-08T03:13:06.447305",
     "exception": false,
     "start_time": "2024-03-08T03:13:06.444477",
     "status": "completed"
    },
    "tags": []
   },
   "source": [
    "# Exercises\n",
    "You could write the function `get_mae` yourself. For now, we'll supply it. This is the same function you read about in the previous lesson. Just run the cell below."
   ]
  },
  {
   "cell_type": "code",
   "execution_count": 2,
   "id": "85ae0e6f",
   "metadata": {
    "execution": {
     "iopub.execute_input": "2024-03-08T03:13:06.454921Z",
     "iopub.status.busy": "2024-03-08T03:13:06.454549Z",
     "iopub.status.idle": "2024-03-08T03:13:06.460132Z",
     "shell.execute_reply": "2024-03-08T03:13:06.459056Z"
    },
    "papermill": {
     "duration": 0.011909,
     "end_time": "2024-03-08T03:13:06.462255",
     "exception": false,
     "start_time": "2024-03-08T03:13:06.450346",
     "status": "completed"
    },
    "tags": []
   },
   "outputs": [],
   "source": [
    "def get_mae(max_leaf_nodes, train_X, val_X, train_y, val_y):\n",
    "    model = DecisionTreeRegressor(max_leaf_nodes=max_leaf_nodes, random_state=0)\n",
    "    model.fit(train_X, train_y)\n",
    "    preds_val = model.predict(val_X)\n",
    "    mae = mean_absolute_error(val_y, preds_val)\n",
    "    return(mae)"
   ]
  },
  {
   "cell_type": "markdown",
   "id": "02966c5b",
   "metadata": {
    "papermill": {
     "duration": 0.002749,
     "end_time": "2024-03-08T03:13:06.468269",
     "exception": false,
     "start_time": "2024-03-08T03:13:06.465520",
     "status": "completed"
    },
    "tags": []
   },
   "source": [
    "## Step 1: Compare Different Tree Sizes\n",
    "Write a loop that tries the following values for *max_leaf_nodes* from a set of possible values.\n",
    "\n",
    "Call the *get_mae* function on each value of max_leaf_nodes. Store the output in some way that allows you to select the value of `max_leaf_nodes` that gives the most accurate model on your data."
   ]
  },
  {
   "cell_type": "code",
   "execution_count": 3,
   "id": "10745557",
   "metadata": {
    "execution": {
     "iopub.execute_input": "2024-03-08T03:13:06.475307Z",
     "iopub.status.busy": "2024-03-08T03:13:06.474964Z",
     "iopub.status.idle": "2024-03-08T03:13:06.523179Z",
     "shell.execute_reply": "2024-03-08T03:13:06.521717Z"
    },
    "papermill": {
     "duration": 0.054622,
     "end_time": "2024-03-08T03:13:06.525796",
     "exception": false,
     "start_time": "2024-03-08T03:13:06.471174",
     "status": "completed"
    },
    "tags": []
   },
   "outputs": [
    {
     "data": {
      "application/javascript": [
       "parent.postMessage({\"jupyterEvent\": \"custom.exercise_interaction\", \"data\": {\"outcomeType\": 1, \"valueTowardsCompletion\": 0.5, \"interactionType\": 1, \"questionType\": 1, \"questionId\": \"1_BestTreeSize\", \"learnToolsVersion\": \"0.3.4\", \"failureMessage\": \"\", \"exceptionClass\": \"\", \"trace\": \"\"}}, \"*\")"
      ],
      "text/plain": [
       "<IPython.core.display.Javascript object>"
      ]
     },
     "metadata": {},
     "output_type": "display_data"
    },
    {
     "data": {
      "text/markdown": [
       "<span style=\"color:#33cc33\">Correct</span>"
      ],
      "text/plain": [
       "Correct"
      ]
     },
     "metadata": {},
     "output_type": "display_data"
    }
   ],
   "source": [
    "candidate_max_leaf_nodes = [5, 25, 50, 100, 250, 500]\n",
    "# Write loop to find the ideal tree size from candidate_max_leaf_nodes\n",
    "import math\n",
    "min_error = math.inf\n",
    "best_tree_size = 0\n",
    "for i in range(len(candidate_max_leaf_nodes)) :\n",
    "    curr_error = get_mae(candidate_max_leaf_nodes[i], train_X, val_X, train_y, val_y)\n",
    "    if (curr_error < min_error) :\n",
    "        min_error = curr_error\n",
    "        best_tree_size = candidate_max_leaf_nodes[i]\n",
    "\n",
    "# Store the best value of max_leaf_nodes (it will be either 5, 25, 50, 100, 250 or 500)\n",
    "# best_tree_size = ____\n",
    "\n",
    "# Check your answer\n",
    "step_1.check()"
   ]
  },
  {
   "cell_type": "code",
   "execution_count": 4,
   "id": "aa512b2e",
   "metadata": {
    "execution": {
     "iopub.execute_input": "2024-03-08T03:13:06.534385Z",
     "iopub.status.busy": "2024-03-08T03:13:06.534043Z",
     "iopub.status.idle": "2024-03-08T03:13:06.538496Z",
     "shell.execute_reply": "2024-03-08T03:13:06.537460Z"
    },
    "papermill": {
     "duration": 0.010942,
     "end_time": "2024-03-08T03:13:06.540421",
     "exception": false,
     "start_time": "2024-03-08T03:13:06.529479",
     "status": "completed"
    },
    "tags": []
   },
   "outputs": [],
   "source": [
    "# The lines below will show you a hint or the solution.\n",
    "# step_1.hint() \n",
    "# step_1.solution()"
   ]
  },
  {
   "cell_type": "markdown",
   "id": "85c4544e",
   "metadata": {
    "papermill": {
     "duration": 0.003226,
     "end_time": "2024-03-08T03:13:06.547313",
     "exception": false,
     "start_time": "2024-03-08T03:13:06.544087",
     "status": "completed"
    },
    "tags": []
   },
   "source": [
    "## Step 2: Fit Model Using All Data\n",
    "You know the best tree size. If you were going to deploy this model in practice, you would make it even more accurate by using all of the data and keeping that tree size.  That is, you don't need to hold out the validation data now that you've made all your modeling decisions."
   ]
  },
  {
   "cell_type": "code",
   "execution_count": 5,
   "id": "4e6c174e",
   "metadata": {
    "execution": {
     "iopub.execute_input": "2024-03-08T03:13:06.555604Z",
     "iopub.status.busy": "2024-03-08T03:13:06.555249Z",
     "iopub.status.idle": "2024-03-08T03:13:06.570308Z",
     "shell.execute_reply": "2024-03-08T03:13:06.569282Z"
    },
    "papermill": {
     "duration": 0.021866,
     "end_time": "2024-03-08T03:13:06.572604",
     "exception": false,
     "start_time": "2024-03-08T03:13:06.550738",
     "status": "completed"
    },
    "tags": []
   },
   "outputs": [
    {
     "data": {
      "application/javascript": [
       "parent.postMessage({\"jupyterEvent\": \"custom.exercise_interaction\", \"data\": {\"outcomeType\": 1, \"valueTowardsCompletion\": 0.5, \"interactionType\": 1, \"questionType\": 2, \"questionId\": \"2_FitModelWithAllData\", \"learnToolsVersion\": \"0.3.4\", \"failureMessage\": \"\", \"exceptionClass\": \"\", \"trace\": \"\"}}, \"*\")"
      ],
      "text/plain": [
       "<IPython.core.display.Javascript object>"
      ]
     },
     "metadata": {},
     "output_type": "display_data"
    },
    {
     "data": {
      "text/markdown": [
       "<span style=\"color:#33cc33\">Correct</span>"
      ],
      "text/plain": [
       "Correct"
      ]
     },
     "metadata": {},
     "output_type": "display_data"
    }
   ],
   "source": [
    "# Fill in argument to make optimal size and uncomment\n",
    "final_model = DecisionTreeRegressor(max_leaf_nodes=best_tree_size)\n",
    "\n",
    "# fit the final model and uncomment the next two lines\n",
    "final_model.fit(X, y)\n",
    "\n",
    "# Check your answer\n",
    "step_2.check()"
   ]
  },
  {
   "cell_type": "code",
   "execution_count": 6,
   "id": "530022f2",
   "metadata": {
    "execution": {
     "iopub.execute_input": "2024-03-08T03:13:06.582172Z",
     "iopub.status.busy": "2024-03-08T03:13:06.581757Z",
     "iopub.status.idle": "2024-03-08T03:13:06.586143Z",
     "shell.execute_reply": "2024-03-08T03:13:06.584982Z"
    },
    "papermill": {
     "duration": 0.011963,
     "end_time": "2024-03-08T03:13:06.588407",
     "exception": false,
     "start_time": "2024-03-08T03:13:06.576444",
     "status": "completed"
    },
    "tags": []
   },
   "outputs": [],
   "source": [
    "# step_2.hint()\n",
    "# step_2.solution()"
   ]
  },
  {
   "cell_type": "markdown",
   "id": "ab99de25",
   "metadata": {
    "papermill": {
     "duration": 0.003392,
     "end_time": "2024-03-08T03:13:06.595891",
     "exception": false,
     "start_time": "2024-03-08T03:13:06.592499",
     "status": "completed"
    },
    "tags": []
   },
   "source": [
    "You've tuned this model and improved your results. But we are still using Decision Tree models, which are not very sophisticated by modern machine learning standards. In the next step you will learn to use Random Forests to improve your models even more.\n",
    "\n",
    "# Keep Going\n",
    "\n",
    "You are ready for **[Random Forests](https://www.kaggle.com/dansbecker/random-forests).**\n"
   ]
  },
  {
   "cell_type": "markdown",
   "id": "8cf249b1",
   "metadata": {
    "papermill": {
     "duration": 0.003349,
     "end_time": "2024-03-08T03:13:06.602927",
     "exception": false,
     "start_time": "2024-03-08T03:13:06.599578",
     "status": "completed"
    },
    "tags": []
   },
   "source": [
    "---\n",
    "\n",
    "\n",
    "\n",
    "\n",
    "*Have questions or comments? Visit the [course discussion forum](https://www.kaggle.com/learn/intro-to-machine-learning/discussion) to chat with other learners.*"
   ]
  }
 ],
 "metadata": {
  "kaggle": {
   "accelerator": "none",
   "dataSources": [
    {
     "databundleVersionId": 111096,
     "sourceId": 10211,
     "sourceType": "competition"
    },
    {
     "datasetId": 11167,
     "sourceId": 15520,
     "sourceType": "datasetVersion"
    },
    {
     "datasetId": 2709,
     "sourceId": 38454,
     "sourceType": "datasetVersion"
    }
   ],
   "isGpuEnabled": false,
   "isInternetEnabled": false,
   "language": "python",
   "sourceType": "notebook"
  },
  "kernelspec": {
   "display_name": "Python 3",
   "language": "python",
   "name": "python3"
  },
  "language_info": {
   "codemirror_mode": {
    "name": "ipython",
    "version": 3
   },
   "file_extension": ".py",
   "mimetype": "text/x-python",
   "name": "python",
   "nbconvert_exporter": "python",
   "pygments_lexer": "ipython3",
   "version": "3.10.13"
  },
  "papermill": {
   "default_parameters": {},
   "duration": 5.696379,
   "end_time": "2024-03-08T03:13:07.126920",
   "environment_variables": {},
   "exception": null,
   "input_path": "__notebook__.ipynb",
   "output_path": "__notebook__.ipynb",
   "parameters": {},
   "start_time": "2024-03-08T03:13:01.430541",
   "version": "2.5.0"
  }
 },
 "nbformat": 4,
 "nbformat_minor": 5
}
