{
 "cells": [
  {
   "cell_type": "markdown",
   "id": "96c7a729",
   "metadata": {
    "papermill": {
     "duration": 0.006341,
     "end_time": "2024-03-08T02:23:30.989608",
     "exception": false,
     "start_time": "2024-03-08T02:23:30.983267",
     "status": "completed"
    },
    "tags": []
   },
   "source": [
    "**This notebook is an exercise in the [Introduction to Machine Learning](https://www.kaggle.com/learn/intro-to-machine-learning) course.  You can reference the tutorial at [this link](https://www.kaggle.com/dansbecker/model-validation).**\n",
    "\n",
    "---\n"
   ]
  },
  {
   "cell_type": "markdown",
   "id": "75e742fd",
   "metadata": {
    "papermill": {
     "duration": 0.005687,
     "end_time": "2024-03-08T02:23:31.001610",
     "exception": false,
     "start_time": "2024-03-08T02:23:30.995923",
     "status": "completed"
    },
    "tags": []
   },
   "source": [
    "## Recap\n",
    "You've built a model. In this exercise you will test how good your model is.\n",
    "\n",
    "Run the cell below to set up your coding environment where the previous exercise left off."
   ]
  },
  {
   "cell_type": "code",
   "execution_count": 1,
   "id": "59022ec8",
   "metadata": {
    "execution": {
     "iopub.execute_input": "2024-03-08T02:23:31.015456Z",
     "iopub.status.busy": "2024-03-08T02:23:31.014980Z",
     "iopub.status.idle": "2024-03-08T02:23:33.385337Z",
     "shell.execute_reply": "2024-03-08T02:23:33.384034Z"
    },
    "papermill": {
     "duration": 2.380571,
     "end_time": "2024-03-08T02:23:33.388022",
     "exception": false,
     "start_time": "2024-03-08T02:23:31.007451",
     "status": "completed"
    },
    "tags": []
   },
   "outputs": [
    {
     "name": "stdout",
     "output_type": "stream",
     "text": [
      "First in-sample predictions: [208500. 181500. 223500. 140000. 250000.]\n",
      "Actual target values for those homes: [208500, 181500, 223500, 140000, 250000]\n",
      "Setup Complete\n"
     ]
    }
   ],
   "source": [
    "# Code you have previously used to load data\n",
    "import pandas as pd\n",
    "from sklearn.tree import DecisionTreeRegressor\n",
    "\n",
    "# Path of the file to read\n",
    "iowa_file_path = '../input/home-data-for-ml-course/train.csv'\n",
    "\n",
    "home_data = pd.read_csv(iowa_file_path)\n",
    "y = home_data.SalePrice\n",
    "feature_columns = ['LotArea', 'YearBuilt', '1stFlrSF', '2ndFlrSF', 'FullBath', 'BedroomAbvGr', 'TotRmsAbvGrd']\n",
    "X = home_data[feature_columns]\n",
    "\n",
    "# Specify Model\n",
    "iowa_model = DecisionTreeRegressor()\n",
    "# Fit Model\n",
    "iowa_model.fit(X, y)\n",
    "\n",
    "print(\"First in-sample predictions:\", iowa_model.predict(X.head()))\n",
    "print(\"Actual target values for those homes:\", y.head().tolist())\n",
    "\n",
    "# Set up code checking\n",
    "from learntools.core import binder\n",
    "binder.bind(globals())\n",
    "from learntools.machine_learning.ex4 import *\n",
    "print(\"Setup Complete\")"
   ]
  },
  {
   "cell_type": "markdown",
   "id": "0a2f40ae",
   "metadata": {
    "papermill": {
     "duration": 0.005766,
     "end_time": "2024-03-08T02:23:33.399991",
     "exception": false,
     "start_time": "2024-03-08T02:23:33.394225",
     "status": "completed"
    },
    "tags": []
   },
   "source": [
    "# Exercises\n",
    "\n",
    "## Step 1: Split Your Data\n",
    "Use the `train_test_split` function to split up your data.\n",
    "\n",
    "Give it the argument `random_state=1` so the `check` functions know what to expect when verifying your code.\n",
    "\n",
    "Recall, your features are loaded in the DataFrame **X** and your target is loaded in **y**.\n"
   ]
  },
  {
   "cell_type": "code",
   "execution_count": 2,
   "id": "897aa47c",
   "metadata": {
    "execution": {
     "iopub.execute_input": "2024-03-08T02:23:33.414608Z",
     "iopub.status.busy": "2024-03-08T02:23:33.413388Z",
     "iopub.status.idle": "2024-03-08T02:23:33.432777Z",
     "shell.execute_reply": "2024-03-08T02:23:33.431549Z"
    },
    "papermill": {
     "duration": 0.029406,
     "end_time": "2024-03-08T02:23:33.435417",
     "exception": false,
     "start_time": "2024-03-08T02:23:33.406011",
     "status": "completed"
    },
    "tags": []
   },
   "outputs": [
    {
     "data": {
      "application/javascript": [
       "parent.postMessage({\"jupyterEvent\": \"custom.exercise_interaction\", \"data\": {\"outcomeType\": 1, \"valueTowardsCompletion\": 0.25, \"interactionType\": 1, \"questionType\": 2, \"questionId\": \"1_SplitData\", \"learnToolsVersion\": \"0.3.4\", \"failureMessage\": \"\", \"exceptionClass\": \"\", \"trace\": \"\"}}, \"*\")"
      ],
      "text/plain": [
       "<IPython.core.display.Javascript object>"
      ]
     },
     "metadata": {},
     "output_type": "display_data"
    },
    {
     "data": {
      "text/markdown": [
       "<span style=\"color:#33cc33\">Correct</span>"
      ],
      "text/plain": [
       "Correct"
      ]
     },
     "metadata": {},
     "output_type": "display_data"
    }
   ],
   "source": [
    "# Import the train_test_split function and uncomment\n",
    "from sklearn.model_selection import train_test_split\n",
    "\n",
    "# fill in and uncomment\n",
    "train_X, val_X, train_y, val_y = train_test_split(X, y, random_state = 1)\n",
    "\n",
    "# Check your answer\n",
    "step_1.check()"
   ]
  },
  {
   "cell_type": "code",
   "execution_count": 3,
   "id": "b236c2e0",
   "metadata": {
    "execution": {
     "iopub.execute_input": "2024-03-08T02:23:33.450496Z",
     "iopub.status.busy": "2024-03-08T02:23:33.449505Z",
     "iopub.status.idle": "2024-03-08T02:23:33.454223Z",
     "shell.execute_reply": "2024-03-08T02:23:33.453415Z"
    },
    "papermill": {
     "duration": 0.014664,
     "end_time": "2024-03-08T02:23:33.456568",
     "exception": false,
     "start_time": "2024-03-08T02:23:33.441904",
     "status": "completed"
    },
    "tags": []
   },
   "outputs": [],
   "source": [
    "# The lines below will show you a hint or the solution.\n",
    "# step_1.hint() \n",
    "# step_1.solution()\n"
   ]
  },
  {
   "cell_type": "markdown",
   "id": "d85827a1",
   "metadata": {
    "papermill": {
     "duration": 0.006478,
     "end_time": "2024-03-08T02:23:33.469727",
     "exception": false,
     "start_time": "2024-03-08T02:23:33.463249",
     "status": "completed"
    },
    "tags": []
   },
   "source": [
    "## Step 2: Specify and Fit the Model\n",
    "\n",
    "Create a `DecisionTreeRegressor` model and fit it to the relevant data.\n",
    "Set `random_state` to 1 again when creating the model."
   ]
  },
  {
   "cell_type": "code",
   "execution_count": 4,
   "id": "854911dc",
   "metadata": {
    "execution": {
     "iopub.execute_input": "2024-03-08T02:23:33.485114Z",
     "iopub.status.busy": "2024-03-08T02:23:33.484718Z",
     "iopub.status.idle": "2024-03-08T02:23:33.600153Z",
     "shell.execute_reply": "2024-03-08T02:23:33.599018Z"
    },
    "papermill": {
     "duration": 0.125578,
     "end_time": "2024-03-08T02:23:33.602386",
     "exception": false,
     "start_time": "2024-03-08T02:23:33.476808",
     "status": "completed"
    },
    "tags": []
   },
   "outputs": [
    {
     "name": "stdout",
     "output_type": "stream",
     "text": [
      "[186500. 184000. 130000.  92000. 164500. 220000. 335000. 144152. 215000.\n",
      " 262000.]\n",
      "[186500. 184000. 130000.  92000. 164500. 220000. 335000. 144152. 215000.\n",
      " 262000.]\n"
     ]
    },
    {
     "data": {
      "application/javascript": [
       "parent.postMessage({\"jupyterEvent\": \"custom.exercise_interaction\", \"data\": {\"outcomeType\": 1, \"valueTowardsCompletion\": 0.25, \"interactionType\": 1, \"questionType\": 2, \"questionId\": \"2_FitModelWithTrain\", \"learnToolsVersion\": \"0.3.4\", \"failureMessage\": \"\", \"exceptionClass\": \"\", \"trace\": \"\"}}, \"*\")"
      ],
      "text/plain": [
       "<IPython.core.display.Javascript object>"
      ]
     },
     "metadata": {},
     "output_type": "display_data"
    },
    {
     "data": {
      "text/markdown": [
       "<span style=\"color:#33cc33\">Correct</span>"
      ],
      "text/plain": [
       "Correct"
      ]
     },
     "metadata": {},
     "output_type": "display_data"
    }
   ],
   "source": [
    "# You imported DecisionTreeRegressor in your last exercise\n",
    "# and that code has been copied to the setup code above. So, no need to\n",
    "# import it again\n",
    "\n",
    "# Specify the model\n",
    "iowa_model = DecisionTreeRegressor(random_state = 1)\n",
    "\n",
    "# Fit iowa_model with the training data.\n",
    "iowa_model.fit(train_X, train_y)\n",
    "\n",
    "# Check your answer\n",
    "step_2.check()"
   ]
  },
  {
   "cell_type": "code",
   "execution_count": 5,
   "id": "6959d00c",
   "metadata": {
    "execution": {
     "iopub.execute_input": "2024-03-08T02:23:33.618811Z",
     "iopub.status.busy": "2024-03-08T02:23:33.617884Z",
     "iopub.status.idle": "2024-03-08T02:23:33.622562Z",
     "shell.execute_reply": "2024-03-08T02:23:33.621434Z"
    },
    "papermill": {
     "duration": 0.01515,
     "end_time": "2024-03-08T02:23:33.624766",
     "exception": false,
     "start_time": "2024-03-08T02:23:33.609616",
     "status": "completed"
    },
    "tags": []
   },
   "outputs": [],
   "source": [
    "# step_2.hint()\n",
    "# step_2.solution()"
   ]
  },
  {
   "cell_type": "markdown",
   "id": "1ee17fbb",
   "metadata": {
    "papermill": {
     "duration": 0.00665,
     "end_time": "2024-03-08T02:23:33.638674",
     "exception": false,
     "start_time": "2024-03-08T02:23:33.632024",
     "status": "completed"
    },
    "tags": []
   },
   "source": [
    "## Step 3: Make Predictions with Validation data\n"
   ]
  },
  {
   "cell_type": "code",
   "execution_count": 6,
   "id": "2060a698",
   "metadata": {
    "execution": {
     "iopub.execute_input": "2024-03-08T02:23:33.654954Z",
     "iopub.status.busy": "2024-03-08T02:23:33.653762Z",
     "iopub.status.idle": "2024-03-08T02:23:33.666737Z",
     "shell.execute_reply": "2024-03-08T02:23:33.665581Z"
    },
    "papermill": {
     "duration": 0.023711,
     "end_time": "2024-03-08T02:23:33.669297",
     "exception": false,
     "start_time": "2024-03-08T02:23:33.645586",
     "status": "completed"
    },
    "tags": []
   },
   "outputs": [
    {
     "data": {
      "application/javascript": [
       "parent.postMessage({\"jupyterEvent\": \"custom.exercise_interaction\", \"data\": {\"outcomeType\": 1, \"valueTowardsCompletion\": 0.25, \"interactionType\": 1, \"questionType\": 2, \"questionId\": \"3_ValPreds\", \"learnToolsVersion\": \"0.3.4\", \"failureMessage\": \"\", \"exceptionClass\": \"\", \"trace\": \"\"}}, \"*\")"
      ],
      "text/plain": [
       "<IPython.core.display.Javascript object>"
      ]
     },
     "metadata": {},
     "output_type": "display_data"
    },
    {
     "data": {
      "text/markdown": [
       "<span style=\"color:#33cc33\">Correct</span>"
      ],
      "text/plain": [
       "Correct"
      ]
     },
     "metadata": {},
     "output_type": "display_data"
    }
   ],
   "source": [
    "# Predict with all validation observations\n",
    "val_predictions = iowa_model.predict(val_X)\n",
    "\n",
    "# Check your answer\n",
    "step_3.check()"
   ]
  },
  {
   "cell_type": "code",
   "execution_count": 7,
   "id": "94f77012",
   "metadata": {
    "execution": {
     "iopub.execute_input": "2024-03-08T02:23:33.686100Z",
     "iopub.status.busy": "2024-03-08T02:23:33.685696Z",
     "iopub.status.idle": "2024-03-08T02:23:33.690087Z",
     "shell.execute_reply": "2024-03-08T02:23:33.688926Z"
    },
    "papermill": {
     "duration": 0.015593,
     "end_time": "2024-03-08T02:23:33.692454",
     "exception": false,
     "start_time": "2024-03-08T02:23:33.676861",
     "status": "completed"
    },
    "tags": []
   },
   "outputs": [],
   "source": [
    "# step_3.hint()\n",
    "# step_3.solution()"
   ]
  },
  {
   "cell_type": "markdown",
   "id": "085774eb",
   "metadata": {
    "papermill": {
     "duration": 0.006989,
     "end_time": "2024-03-08T02:23:33.707036",
     "exception": false,
     "start_time": "2024-03-08T02:23:33.700047",
     "status": "completed"
    },
    "tags": []
   },
   "source": [
    "Inspect your predictions and actual values from validation data."
   ]
  },
  {
   "cell_type": "code",
   "execution_count": 8,
   "id": "fd0589fc",
   "metadata": {
    "execution": {
     "iopub.execute_input": "2024-03-08T02:23:33.723359Z",
     "iopub.status.busy": "2024-03-08T02:23:33.722955Z",
     "iopub.status.idle": "2024-03-08T02:23:33.729684Z",
     "shell.execute_reply": "2024-03-08T02:23:33.728516Z"
    },
    "papermill": {
     "duration": 0.017599,
     "end_time": "2024-03-08T02:23:33.731976",
     "exception": false,
     "start_time": "2024-03-08T02:23:33.714377",
     "status": "completed"
    },
    "tags": []
   },
   "outputs": [
    {
     "name": "stdout",
     "output_type": "stream",
     "text": [
      "[186500. 184000. 130000.  92000. 164500.]\n",
      "[208500, 181500, 223500, 140000, 250000]\n"
     ]
    }
   ],
   "source": [
    "# print the top few validation predictions\n",
    "print(val_predictions[0:5])\n",
    "# print the top few actual prices from validation data\n",
    "# print(home_data.head())\n",
    "print(home_data.head().SalePrice.tolist())"
   ]
  },
  {
   "cell_type": "markdown",
   "id": "d0bb0968",
   "metadata": {
    "papermill": {
     "duration": 0.007321,
     "end_time": "2024-03-08T02:23:33.747165",
     "exception": false,
     "start_time": "2024-03-08T02:23:33.739844",
     "status": "completed"
    },
    "tags": []
   },
   "source": [
    "What do you notice that is different from what you saw with in-sample predictions (which are printed after the top code cell in this page).\n",
    "\n",
    "Do you remember why validation predictions differ from in-sample (or training) predictions? This is an important idea from the last lesson.\n",
    "\n",
    "## Step 4: Calculate the Mean Absolute Error in Validation Data\n"
   ]
  },
  {
   "cell_type": "code",
   "execution_count": 9,
   "id": "f165aa20",
   "metadata": {
    "execution": {
     "iopub.execute_input": "2024-03-08T02:23:33.764002Z",
     "iopub.status.busy": "2024-03-08T02:23:33.763588Z",
     "iopub.status.idle": "2024-03-08T02:23:33.774988Z",
     "shell.execute_reply": "2024-03-08T02:23:33.773908Z"
    },
    "papermill": {
     "duration": 0.022411,
     "end_time": "2024-03-08T02:23:33.777179",
     "exception": false,
     "start_time": "2024-03-08T02:23:33.754768",
     "status": "completed"
    },
    "tags": []
   },
   "outputs": [
    {
     "name": "stdout",
     "output_type": "stream",
     "text": [
      "29652.931506849316\n"
     ]
    },
    {
     "data": {
      "application/javascript": [
       "parent.postMessage({\"jupyterEvent\": \"custom.exercise_interaction\", \"data\": {\"outcomeType\": 1, \"valueTowardsCompletion\": 0.25, \"interactionType\": 1, \"questionType\": 1, \"questionId\": \"4_MAE\", \"learnToolsVersion\": \"0.3.4\", \"failureMessage\": \"\", \"exceptionClass\": \"\", \"trace\": \"\"}}, \"*\")"
      ],
      "text/plain": [
       "<IPython.core.display.Javascript object>"
      ]
     },
     "metadata": {},
     "output_type": "display_data"
    },
    {
     "data": {
      "text/markdown": [
       "<span style=\"color:#33cc33\">Correct</span>"
      ],
      "text/plain": [
       "Correct"
      ]
     },
     "metadata": {},
     "output_type": "display_data"
    }
   ],
   "source": [
    "from sklearn.metrics import mean_absolute_error\n",
    "val_mae = mean_absolute_error(val_predictions, val_y)\n",
    "\n",
    "# uncomment following line to see the validation_mae\n",
    "print(val_mae)\n",
    "\n",
    "# Check your answer\n",
    "step_4.check()"
   ]
  },
  {
   "cell_type": "code",
   "execution_count": 10,
   "id": "ce7f4077",
   "metadata": {
    "execution": {
     "iopub.execute_input": "2024-03-08T02:23:33.795780Z",
     "iopub.status.busy": "2024-03-08T02:23:33.795083Z",
     "iopub.status.idle": "2024-03-08T02:23:33.799982Z",
     "shell.execute_reply": "2024-03-08T02:23:33.798720Z"
    },
    "papermill": {
     "duration": 0.016154,
     "end_time": "2024-03-08T02:23:33.802210",
     "exception": false,
     "start_time": "2024-03-08T02:23:33.786056",
     "status": "completed"
    },
    "tags": []
   },
   "outputs": [],
   "source": [
    "# step_4.hint()\n",
    "# step_4.solution()"
   ]
  },
  {
   "cell_type": "markdown",
   "id": "e3942b81",
   "metadata": {
    "papermill": {
     "duration": 0.007545,
     "end_time": "2024-03-08T02:23:33.817638",
     "exception": false,
     "start_time": "2024-03-08T02:23:33.810093",
     "status": "completed"
    },
    "tags": []
   },
   "source": [
    "Is that MAE good?  There isn't a general rule for what values are good that applies across applications. But you'll see how to use (and improve) this number in the next step.\n",
    "\n",
    "# Keep Going\n",
    "\n",
    "You are ready for **[Underfitting and Overfitting](https://www.kaggle.com/dansbecker/underfitting-and-overfitting).**\n"
   ]
  },
  {
   "cell_type": "markdown",
   "id": "2de00199",
   "metadata": {
    "papermill": {
     "duration": 0.007473,
     "end_time": "2024-03-08T02:23:33.832832",
     "exception": false,
     "start_time": "2024-03-08T02:23:33.825359",
     "status": "completed"
    },
    "tags": []
   },
   "source": [
    "---\n",
    "\n",
    "\n",
    "\n",
    "\n",
    "*Have questions or comments? Visit the [course discussion forum](https://www.kaggle.com/learn/intro-to-machine-learning/discussion) to chat with other learners.*"
   ]
  }
 ],
 "metadata": {
  "kaggle": {
   "accelerator": "none",
   "dataSources": [
    {
     "databundleVersionId": 111096,
     "sourceId": 10211,
     "sourceType": "competition"
    },
    {
     "datasetId": 11167,
     "sourceId": 15520,
     "sourceType": "datasetVersion"
    },
    {
     "datasetId": 2709,
     "sourceId": 38454,
     "sourceType": "datasetVersion"
    }
   ],
   "isGpuEnabled": false,
   "isInternetEnabled": false,
   "language": "python",
   "sourceType": "notebook"
  },
  "kernelspec": {
   "display_name": "Python 3",
   "language": "python",
   "name": "python3"
  },
  "language_info": {
   "codemirror_mode": {
    "name": "ipython",
    "version": 3
   },
   "file_extension": ".py",
   "mimetype": "text/x-python",
   "name": "python",
   "nbconvert_exporter": "python",
   "pygments_lexer": "ipython3",
   "version": "3.10.13"
  },
  "papermill": {
   "default_parameters": {},
   "duration": 6.455828,
   "end_time": "2024-03-08T02:23:34.461156",
   "environment_variables": {},
   "exception": null,
   "input_path": "__notebook__.ipynb",
   "output_path": "__notebook__.ipynb",
   "parameters": {},
   "start_time": "2024-03-08T02:23:28.005328",
   "version": "2.5.0"
  }
 },
 "nbformat": 4,
 "nbformat_minor": 5
}
